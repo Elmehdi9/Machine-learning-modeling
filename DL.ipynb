{
 "cells": [
  {
   "attachments": {},
   "cell_type": "markdown",
   "id": "0c026aad",
   "metadata": {},
   "source": [
    "## Convolution matrix, padding, and stride"
   ]
  },
  {
   "cell_type": "code",
   "execution_count": 1,
   "id": "ed04d783",
   "metadata": {},
   "outputs": [],
   "source": [
    "import numpy as np"
   ]
  },
  {
   "cell_type": "markdown",
   "id": "635cb0e6",
   "metadata": {},
   "source": [
    "### Les fonctions"
   ]
  },
  {
   "cell_type": "code",
   "execution_count": 2,
   "id": "b8d7ff46",
   "metadata": {},
   "outputs": [],
   "source": [
    "# padding(mat, pad)\n",
    "def padding_1(mat, pad):\n",
    "    if len(mat.shape)== 4:\n",
    "        n_R, n_C= mat.shape[1:3]\n",
    "    else:\n",
    "        n_R, n_C= mat.shape\n",
    "\n",
    "    padded_mat = np.zeros((n_R+ 2*pad, n_C+ 2*pad ))\n",
    "\n",
    "\n",
    "    for i in range(n_R):\n",
    "        for j in range(n_C):\n",
    "            padded_mat[i+pad][j+pad] = mat[i][j]\n",
    "\n",
    "    return padded_mat\n",
    "\n",
    "def padding_2(mat, pad):\n",
    "    if len(mat.shape) == 4:\n",
    "        m, n_H, n_W, n_C = mat.shape\n",
    "    else:\n",
    "        n_H, n_W = mat.shape\n",
    "        n_C = 1\n",
    "        m=1\n",
    "\n",
    "    padded_mat = np.zeros((m, n_H+2*pad, n_W+2*pad, n_C))\n",
    "\n",
    "    for i in range(m):\n",
    "        for j in range(n_H):\n",
    "            for k in range(n_W):\n",
    "                padded_mat[i, j+pad, k+pad, :] = mat[i, j, k, :]\n",
    "\n",
    "    return padded_mat\n",
    "\n",
    "def une_conv(mat_partie, W):\n",
    "    return np.sum(mat_partie*W)"
   ]
  },
  {
   "cell_type": "code",
   "execution_count": 3,
   "id": "d6ae86aa",
   "metadata": {},
   "outputs": [],
   "source": [
    "def conv_f(mat, W, hparameters):\n",
    "    \n",
    "    # Extraire les hyper-paramètres\n",
    "    stride = hparameters['stride']\n",
    "    pad = hparameters['pad']\n",
    "\n",
    "    (m, n_H_p, n_W_p, n_C_p) = mat.shape\n",
    "    (f, f, n_C_p, n_C) = W.shape\n",
    "    \n",
    "    n_H = int((n_H_p - f + 2*pad)/stride) + 1\n",
    "    n_W = int((n_W_p - f + 2*pad)/stride) + 1\n",
    "    \n",
    "    # rembourrage\n",
    "    mat = padding_2(mat, pad)\n",
    "    \n",
    "    # Initialisation de la matrice de sortie Z \n",
    "    Z = np.zeros((m, n_H, n_W, n_C))\n",
    "    \n",
    "    # Boucler sur les exemples d'entrée\n",
    "    for i in range(m):\n",
    "        # Extraire la matrice d'entrée i\n",
    "        mat_i = mat[i,:,:,:]\n",
    "        \n",
    "        # Boucler sur les canaux de sortie\n",
    "        for c in range(n_C):\n",
    "            # Boucler sur les lignes de la matrice de sortie\n",
    "            for h in range(n_H):\n",
    "                # les indices de début et de fin de la ligne de la matrice d'entrée\n",
    "                h_start = h*stride\n",
    "                h_end = h*stride + f\n",
    "                \n",
    "                # Boucler sur les colonnes de la matrice de sortie\n",
    "                for w in range(n_W):\n",
    "                    # les indices de début et de fin de la colonne de la matrice d'entrée\n",
    "                    w_start = w*stride\n",
    "                    w_end = w*stride + f\n",
    "                    \n",
    "                    # Extraire la partie de la matrice d'entrée qui correspond au filtre actuel\n",
    "                    mat_slice = mat_i[h_start:h_end, w_start:w_end, :]\n",
    "                    \n",
    "                    # Calcul de matrice de convolution en utilisant une_conv\n",
    "                    Z[i, h, w, c] = une_conv(mat_slice, W[:, :, :, c])   \n",
    "                  \n",
    "    # Enregistrement des valeurs de (mat, W, hparameters)\n",
    "    cache = (mat, W, hparameters)\n",
    "    \n",
    "    return Z, cache"
   ]
  },
  {
   "cell_type": "markdown",
   "id": "612ac7ca",
   "metadata": {},
   "source": [
    "### Les tests des fonctions"
   ]
  },
  {
   "cell_type": "code",
   "execution_count": 5,
   "id": "834c7661",
   "metadata": {},
   "outputs": [
    {
     "data": {
      "text/plain": [
       "-3.799488805441893"
      ]
     },
     "execution_count": 5,
     "metadata": {},
     "output_type": "execute_result"
    }
   ],
   "source": [
    "# Test de une_conv()\n",
    "partie_mat = np.random.randn(3, 3, 3)\n",
    "W = np.random.randn(3, 3, 3)\n",
    "res = une_conv(partie_mat, W)\n",
    "res"
   ]
  },
  {
   "cell_type": "code",
   "execution_count": 6,
   "id": "8265f974",
   "metadata": {},
   "outputs": [
    {
     "data": {
      "text/plain": [
       "array([[[[-0.94244584, -0.12382569, -0.50616107, ..., -1.48207773,\n",
       "          -0.26765384,  0.93024992],\n",
       "         [ 0.65726071,  1.17089493,  0.97367992, ..., -0.29961154,\n",
       "          -1.1304008 , -0.99312619],\n",
       "         [-2.12837228, -1.90357102,  0.52097094, ...,  1.07490756,\n",
       "          -0.73398053, -1.20097229],\n",
       "         ...,\n",
       "         [-2.07449294, -1.24351805, -2.12942815, ...,  4.32082485,\n",
       "           0.98285707, -2.4967404 ],\n",
       "         [-0.45409174, -0.3221734 , -2.34066328, ...,  1.19358654,\n",
       "           3.07780016,  1.70314411],\n",
       "         [ 0.59625027,  0.04074469, -1.10747524, ..., -0.05327983,\n",
       "           0.41492322,  1.44024114]],\n",
       "\n",
       "        [[-1.65076638, -0.93948257,  1.09997564, ...,  2.55699455,\n",
       "           1.04235033, -1.56033608],\n",
       "         [-2.50716012, -1.51663998,  1.25095618, ..., -2.32623583,\n",
       "          -2.68891568,  1.57936149],\n",
       "         [ 4.32324811,  3.54243221,  5.04809454, ..., -3.79016646,\n",
       "          -0.99983385, -0.03177709],\n",
       "         ...,\n",
       "         [ 1.55816442, -3.04514247,  0.58783093, ...,  1.90460997,\n",
       "           6.8611378 ,  0.54879661],\n",
       "         [ 3.28147594, -0.74212197, -0.76058987, ...,  1.60336937,\n",
       "          -5.13567118,  0.29162202],\n",
       "         [-0.91240944,  1.7460533 ,  4.26515803, ..., -0.16139159,\n",
       "           1.3039659 , -3.94216015]],\n",
       "\n",
       "        [[ 1.50639245,  0.57769456, -1.84906934, ...,  1.19759822,\n",
       "          -1.13872138,  0.26394082],\n",
       "         [-6.27562642, -1.42073341,  1.2779255 , ...,  2.24635412,\n",
       "          -7.48960525, -5.83667011],\n",
       "         [ 4.55478685,  4.16977823,  1.338658  , ..., -5.64983009,\n",
       "           3.39111052, -3.69860801],\n",
       "         ...,\n",
       "         [-2.59948645,  0.78489288,  1.94131884, ...,  2.12331277,\n",
       "           6.91658085,  5.28146244],\n",
       "         [ 0.96200821,  3.27227184,  1.91556526, ..., -5.70109215,\n",
       "          -1.67897138,  6.04440081],\n",
       "         [-0.65360548, -1.89510197,  1.09199713, ...,  2.08892888,\n",
       "          -2.81148081, -0.18447773]],\n",
       "\n",
       "        ...,\n",
       "\n",
       "        [[ 1.85749418,  1.70759442, -1.60285123, ..., -2.93783   ,\n",
       "          -1.34660667,  1.39687643],\n",
       "         [ 1.77351128, -0.83579925,  0.26710161, ...,  0.86343635,\n",
       "           4.43032741, -1.02877285],\n",
       "         [ 2.3952945 , -1.95689845, -4.22124597, ...,  4.65431801,\n",
       "           5.71650171,  0.8852065 ],\n",
       "         ...,\n",
       "         [ 0.93148648, -4.26335567, -0.11149359, ..., -1.50292062,\n",
       "          -3.0317528 , -2.26923824],\n",
       "         [ 1.63608101,  1.27940179,  3.28610292, ...,  2.93590148,\n",
       "          10.99431237, -0.04537661],\n",
       "         [-1.61264442,  2.15922227, -1.95319255, ..., -0.90071677,\n",
       "          -4.0340062 ,  2.97744968]],\n",
       "\n",
       "        [[ 0.6244249 , -0.11225343,  1.74186648, ...,  0.60658203,\n",
       "           0.55226319, -3.39959197],\n",
       "         [ 2.24039314,  2.14581732,  1.17140043, ..., -1.5435639 ,\n",
       "           3.79110155,  0.41700732],\n",
       "         [-2.65347515,  5.20473015, -0.63751788, ..., -7.34962253,\n",
       "           0.35085097,  2.96626858],\n",
       "         ...,\n",
       "         [-1.38134911, -3.9106323 , -6.51301814, ..., -8.49387833,\n",
       "          -2.16387099,  1.94143849],\n",
       "         [ 1.91689533,  0.21263324,  0.45418968, ...,  3.13904091,\n",
       "           2.90600056,  1.21559199],\n",
       "         [ 0.57251454,  0.97446623,  1.25018309, ...,  3.32136056,\n",
       "           0.28590765, -3.94238965]],\n",
       "\n",
       "        [[-1.12672532,  0.26594319,  0.31235432, ..., -0.41791355,\n",
       "           1.38363778,  0.57865991],\n",
       "         [-1.88930128, -0.59465717,  0.76738997, ..., -0.23126154,\n",
       "           1.11987277,  0.33369704],\n",
       "         [ 2.98305621,  0.23977842,  7.47009128, ...,  4.60374439,\n",
       "           3.37158061, -6.28496231],\n",
       "         ...,\n",
       "         [-2.08141952, -1.08885016,  0.83761936, ..., -2.39252722,\n",
       "           2.92190566, -2.78713593],\n",
       "         [ 0.4456743 ,  1.31437049, -0.67272087, ..., -1.56249331,\n",
       "           2.05093881,  2.27079036],\n",
       "         [-0.90401457,  1.95835347,  0.02781259, ...,  1.68830719,\n",
       "          -2.14372015, -0.7713013 ]]]])"
      ]
     },
     "execution_count": 6,
     "metadata": {},
     "output_type": "execute_result"
    }
   ],
   "source": [
    "# Test conv_f function\n",
    "mat = np.random.randn(1, 28, 28, 3)\n",
    "W = np.random.randn(3, 3, 3, 8)\n",
    "hparameters = {\"pad\": 2, \"stride\": 1}\n",
    "Z, cache = conv_f(mat, W, hparameters)\n",
    "Z"
   ]
  }
 ],
 "metadata": {
  "kernelspec": {
   "display_name": "Python 3 (ipykernel)",
   "language": "python",
   "name": "python3"
  },
  "language_info": {
   "codemirror_mode": {
    "name": "ipython",
    "version": 3
   },
   "file_extension": ".py",
   "mimetype": "text/x-python",
   "name": "python",
   "nbconvert_exporter": "python",
   "pygments_lexer": "ipython3",
   "version": "3.9.12"
  }
 },
 "nbformat": 4,
 "nbformat_minor": 5
}
