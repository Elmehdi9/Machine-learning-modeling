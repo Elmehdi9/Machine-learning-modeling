{
 "cells": [
  {
   "cell_type": "markdown",
   "id": "ab868901",
   "metadata": {},
   "source": [
    "## Linear Regression Modeling \n",
    "This notebook use the sklearn real world Boston housing price dataset as I attempt to implement the linear regression model in the following three ways:\n",
    "\n",
    "<ul>\n",
    "    <li>Scikit-learn.</li>\n",
    "    <li>Closed form solution.</li>\n",
    "    <li>Gradient descent.</li>\n",
    "</ul>"
   ]
  },
  {
   "cell_type": "markdown",
   "id": "6b09482a",
   "metadata": {},
   "source": [
    "#### Imports"
   ]
  },
  {
   "cell_type": "code",
   "execution_count": 1,
   "id": "93345c40",
   "metadata": {},
   "outputs": [],
   "source": [
    "from sklearn.linear_model import LinearRegression\n",
    "from sklearn.metrics import mean_squared_error\n",
    "from sklearn import datasets\n",
    "\n",
    "import numpy as np\n",
    "import seaborn as sn\n",
    "import matplotlib.pyplot as plt\n",
    "\n"
   ]
  },
  {
   "cell_type": "code",
   "execution_count": 2,
   "id": "40a7ec2f",
   "metadata": {},
   "outputs": [
    {
     "name": "stdout",
     "output_type": "stream",
     "text": [
      "(506, 13) (506,)\n"
     ]
    },
    {
     "name": "stderr",
     "output_type": "stream",
     "text": [
      "C:\\Users\\pc\\anaconda3\\lib\\site-packages\\sklearn\\utils\\deprecation.py:87: FutureWarning: Function load_boston is deprecated; `load_boston` is deprecated in 1.0 and will be removed in 1.2.\n",
      "\n",
      "    The Boston housing prices dataset has an ethical problem. You can refer to\n",
      "    the documentation of this function for further details.\n",
      "\n",
      "    The scikit-learn maintainers therefore strongly discourage the use of this\n",
      "    dataset unless the purpose of the code is to study and educate about\n",
      "    ethical issues in data science and machine learning.\n",
      "\n",
      "    In this special case, you can fetch the dataset from the original\n",
      "    source::\n",
      "\n",
      "        import pandas as pd\n",
      "        import numpy as np\n",
      "\n",
      "\n",
      "        data_url = \"http://lib.stat.cmu.edu/datasets/boston\"\n",
      "        raw_df = pd.read_csv(data_url, sep=\"\\s+\", skiprows=22, header=None)\n",
      "        data = np.hstack([raw_df.values[::2, :], raw_df.values[1::2, :2]])\n",
      "        target = raw_df.values[1::2, 2]\n",
      "\n",
      "    Alternative datasets include the California housing dataset (i.e.\n",
      "    :func:`~sklearn.datasets.fetch_california_housing`) and the Ames housing\n",
      "    dataset. You can load the datasets as follows::\n",
      "\n",
      "        from sklearn.datasets import fetch_california_housing\n",
      "        housing = fetch_california_housing()\n",
      "\n",
      "    for the California housing dataset and::\n",
      "\n",
      "        from sklearn.datasets import fetch_openml\n",
      "        housing = fetch_openml(name=\"house_prices\", as_frame=True)\n",
      "\n",
      "    for the Ames housing dataset.\n",
      "    \n",
      "  warnings.warn(msg, category=FutureWarning)\n"
     ]
    }
   ],
   "source": [
    "# import boston dataset\n",
    "boston= datasets.load_boston()\n",
    "\n",
    "# set features and target variable \n",
    "features= boston.data\n",
    "target= boston.target\n",
    "\n",
    "# Display features and targt variable shape \n",
    "print(features.shape, target.shape)"
   ]
  },
  {
   "cell_type": "markdown",
   "id": "3a55b021",
   "metadata": {},
   "source": [
    "## Sickit-Learn Implementation"
   ]
  },
  {
   "cell_type": "code",
   "execution_count": 9,
   "id": "ecf7d82e",
   "metadata": {},
   "outputs": [],
   "source": [
    "# Regressor\n",
    "lr= LinearRegression()\n",
    "\n",
    "# Fit lr model to boston data\n",
    "lr.fit(features, target)\n",
    "\n",
    "# Features prediction\n",
    "target_pred= lr.predict(features)"
   ]
  },
  {
   "cell_type": "code",
   "execution_count": 10,
   "id": "181e13a6",
   "metadata": {},
   "outputs": [
    {
     "name": "stdout",
     "output_type": "stream",
     "text": [
      "Intercept:  36.459488385089855\n"
     ]
    }
   ],
   "source": [
    "# Intercept\n",
    "print('Intercept: ',lr.intercept_)"
   ]
  },
  {
   "cell_type": "code",
   "execution_count": 11,
   "id": "d95bc804",
   "metadata": {},
   "outputs": [
    {
     "name": "stdout",
     "output_type": "stream",
     "text": [
      "Mean-squared error: 21.894831181729202\n"
     ]
    }
   ],
   "source": [
    "# Mean-squared error (cost function)\n",
    "print('Mean-squared error:', mean_squared_error(target, target_pred))"
   ]
  },
  {
   "cell_type": "code",
   "execution_count": 12,
   "id": "0c6f8adc",
   "metadata": {},
   "outputs": [
    {
     "name": "stdout",
     "output_type": "stream",
     "text": [
      "Coefficients:  [-0.10801135783679539, 0.04642045836687953, 0.020558626367068917, 2.6867338193448442, -17.766611228299986, 3.8098652068092282, 0.0006922246403431768, -1.47556684560025, 0.30604947898516427, -0.012334593916574021, -0.9527472317072921, 0.00931168327379375, -0.5247583778554881]\n"
     ]
    }
   ],
   "source": [
    "# Coefficients\n",
    "print('Coefficients: ',  list(lr.coef_))"
   ]
  },
  {
   "cell_type": "markdown",
   "id": "c7333cb9",
   "metadata": {},
   "source": [
    "## Closed Form Solution Implementation"
   ]
  },
  {
   "cell_type": "code",
   "execution_count": null,
   "id": "428ac1a8",
   "metadata": {},
   "outputs": [],
   "source": []
  }
 ],
 "metadata": {
  "kernelspec": {
   "display_name": "Python 3 (ipykernel)",
   "language": "python",
   "name": "python3"
  },
  "language_info": {
   "codemirror_mode": {
    "name": "ipython",
    "version": 3
   },
   "file_extension": ".py",
   "mimetype": "text/x-python",
   "name": "python",
   "nbconvert_exporter": "python",
   "pygments_lexer": "ipython3",
   "version": "3.9.12"
  }
 },
 "nbformat": 4,
 "nbformat_minor": 5
}
