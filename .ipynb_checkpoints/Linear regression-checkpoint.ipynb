{
 "cells": [
  {
   "cell_type": "markdown",
   "id": "fb0b97e9",
   "metadata": {},
   "source": [
    "## Linear Regression Modeling \n",
    "This notebook use the sklearn real world Boston housing price dataset as I attempt to implement the linear regression model in the following three ways:\n",
    "\n",
    "<ul>\n",
    "    <li>Scikit-learn.</li>\n",
    "    <li>Gradient descent.</li>\n",
    "    <li>Closed form solution.</li>\n",
    "</ul>"
   ]
  },
  {
   "cell_type": "markdown",
   "id": "577a40c2",
   "metadata": {},
   "source": [
    "#### Imports"
   ]
  },
  {
   "cell_type": "code",
   "execution_count": 1,
   "id": "ff0b9877",
   "metadata": {},
   "outputs": [],
   "source": [
    "from sklearn.linear_model import LinearRegression\n",
    "from sklearn.metrics import mean_squared_error\n",
    "from sklearn import datasets\n",
    "\n",
    "import numpy as np\n",
    "import seaborn as sn\n",
    "import matplotlib.pyplot as plt\n",
    "\n",
    "import warnings\n",
    "warnings.filterwarnings('ignore')"
   ]
  },
  {
   "cell_type": "code",
   "execution_count": 2,
   "id": "fc2b5459",
   "metadata": {},
   "outputs": [
    {
     "name": "stdout",
     "output_type": "stream",
     "text": [
      "(506, 13) (506,)\n"
     ]
    }
   ],
   "source": [
    "# import boston dataset\n",
    "boston= datasets.load_boston()\n",
    "\n",
    "# set features and target variable \n",
    "x= boston.data\n",
    "y= boston.target\n",
    "\n",
    "# Display features and targt variable shape \n",
    "print(x.shape, y.shape)"
   ]
  },
  {
   "cell_type": "markdown",
   "id": "ee005987",
   "metadata": {},
   "source": [
    "## Sickit-Learn Implementation"
   ]
  },
  {
   "cell_type": "code",
   "execution_count": 3,
   "id": "c20afbc7",
   "metadata": {},
   "outputs": [],
   "source": [
    "# Regressor\n",
    "lr= LinearRegression()\n",
    "\n",
    "# Fit lr model to boston data\n",
    "lr.fit(x, y)\n",
    "\n",
    "# Features prediction\n",
    "y_pred= lr.predict(x)"
   ]
  },
  {
   "cell_type": "code",
   "execution_count": 4,
   "id": "19a9fa03",
   "metadata": {},
   "outputs": [
    {
     "name": "stdout",
     "output_type": "stream",
     "text": [
      "Intercept:  36.459488385089855\n"
     ]
    }
   ],
   "source": [
    "# Intercept\n",
    "print('Intercept: ',lr.intercept_)"
   ]
  },
  {
   "cell_type": "code",
   "execution_count": 5,
   "id": "f03b5d0f",
   "metadata": {},
   "outputs": [
    {
     "name": "stdout",
     "output_type": "stream",
     "text": [
      "Mean-squared error: 21.894831181729202\n"
     ]
    }
   ],
   "source": [
    "# Mean-squared error (cost function)\n",
    "print('Mean-squared error:', mean_squared_error(y, y_pred))"
   ]
  },
  {
   "cell_type": "code",
   "execution_count": 6,
   "id": "740ca6c4",
   "metadata": {},
   "outputs": [
    {
     "name": "stdout",
     "output_type": "stream",
     "text": [
      "Coefficients:  [-0.10801135783679539, 0.04642045836687953, 0.020558626367068917, 2.6867338193448442, -17.766611228299986, 3.8098652068092282, 0.0006922246403431768, -1.47556684560025, 0.30604947898516427, -0.012334593916574021, -0.9527472317072921, 0.00931168327379375, -0.5247583778554881]\n"
     ]
    }
   ],
   "source": [
    "# Coefficients\n",
    "print('Coefficients: ',  list(lr.coef_))"
   ]
  },
  {
   "cell_type": "markdown",
   "id": "2e8eb4e9",
   "metadata": {},
   "source": [
    "## Gradient Descent Implementation"
   ]
  },
  {
   "cell_type": "code",
   "execution_count": null,
   "id": "3dae799c",
   "metadata": {},
   "outputs": [],
   "source": [
    "# to calculate the loss function\n",
    "def cost(X, theta, y):\n",
    "    m = y.shape[0]\n",
    "    prediction = np.dot(X, theta)\n",
    "    error = prediction - y\n",
    "    J = np.mean(error**2) / 2\n",
    "    return J\n",
    "\n",
    "# to calculate the gradient\n",
    "def gradient(X, theta, y):\n",
    "    m = y.shape[0]\n",
    "    prediction = np.dot(X, theta)\n",
    "    error = prediction - y\n",
    "    gradient = np.dot(X.T, error) / m\n",
    "    return gradient\n",
    "\n",
    "# the linear regression model implmentation\n",
    "def linear_regression(X, y, n_iter, alpha):\n",
    "    theta = np.zeros(X.shape[1])\n",
    "    costs = np.zeros(n_iter)\n",
    "    m = y.shape[0]\n",
    "    \n",
    "    for i in range(n_iter):\n",
    "        theta_old = theta\n",
    "        theta = theta - alpha * gradient(X, theta, y)\n",
    "        costs[i] = cost(X, theta, y)\n",
    "        if np.linalg.norm(theta - theta_old, ord=1) < 0.000001:\n",
    "            costs = np.delete(costs, range(i+1, n_iter), None)\n",
    "            break\n",
    "        if i > 0:\n",
    "            diff = costs[i-1] - costs[i]\n",
    "            if diff < -1:\n",
    "                raise ValueError('Gradient descent is diverging choose a smaller alpha')\n",
    "        if i+1 == n_iter:\n",
    "            print('Model did not fully converge, try picking a higher number of iterations (n_iter) or learning rate (alpha)')\n",
    "            \n",
    "    return costs, theta"
   ]
  }
 ],
 "metadata": {
  "kernelspec": {
   "display_name": "Python 3 (ipykernel)",
   "language": "python",
   "name": "python3"
  },
  "language_info": {
   "codemirror_mode": {
    "name": "ipython",
    "version": 3
   },
   "file_extension": ".py",
   "mimetype": "text/x-python",
   "name": "python",
   "nbconvert_exporter": "python",
   "pygments_lexer": "ipython3",
   "version": "3.9.12"
  }
 },
 "nbformat": 4,
 "nbformat_minor": 5
}
